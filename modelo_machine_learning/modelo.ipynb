{
 "cells": [
  {
   "cell_type": "code",
   "execution_count": 24,
   "metadata": {},
   "outputs": [],
   "source": [
    "import pandas as pd\n",
    "import pyarrow as pa\n",
    "import pyarrow.parquet as pq\n",
    "from sklearn.feature_extraction.text import CountVectorizer\n",
    "from sklearn.metrics.pairwise import cosine_similarity"
   ]
  },
  {
   "cell_type": "markdown",
   "metadata": {},
   "source": [
    "Nuestra eleccion fue la construccion de un modelo de recomendacion item-item, basado en la 'Similitud del coseno'"
   ]
  },
  {
   "cell_type": "code",
   "execution_count": 2,
   "metadata": {},
   "outputs": [],
   "source": [
    "# Llamamos al dataframe que vamos a utilizar\n",
    "archivo = pd.read_csv('../archivos_csv/ETL2_steam_games.csv')"
   ]
  },
  {
   "cell_type": "code",
   "execution_count": 3,
   "metadata": {},
   "outputs": [],
   "source": [
    "# Seleccionar las columnas necesarias\n",
    "df = archivo.loc[:, [\"genres\", \"id\", \"app_name\"]]\n",
    "\n",
    "# Convertir 'item_id' a tipo entero y 'genres' a tipo str\n",
    "df[\"id\"] = df[\"id\"].astype(int)\n",
    "df['genres'] = df['genres'].astype(str)\n",
    "\n",
    "# renombramos la columna 'id' a 'item_id' para una mayor intuicion\n",
    "df = df.rename(columns= {'id': 'item_id'})"
   ]
  },
  {
   "cell_type": "code",
   "execution_count": 4,
   "metadata": {},
   "outputs": [],
   "source": [
    "# agrupamos los valores de acuerdo a su item_id y a su nombre, a su vez unimos los valores agrupados en la columna 'genres' mediante el caracter ',' para luego ser utilizados en nuestro modelo\n",
    "df = df.groupby(by= ['item_id','app_name'])['genres'].agg(lambda x: ', '.join(x)).reset_index()"
   ]
  },
  {
   "cell_type": "code",
   "execution_count": 5,
   "metadata": {},
   "outputs": [
    {
     "data": {
      "text/plain": [
       "Action                                                                     1878\n",
       "Action, Indie                                                              1649\n",
       "Simulation                                                                 1396\n",
       "Casual, Simulation                                                         1359\n",
       "Action, Adventure, Indie                                                   1082\n",
       "                                                                           ... \n",
       "Action, Adventure, RPG, Indie                                                 1\n",
       "Action, Adventure, Massively Multiplayer, Simulation, Early Access            1\n",
       "Casual, RPG, Simulation, Early Access                                         1\n",
       "Free to Play, Indie, Massively Multiplayer, RPG, Strategy, Early Access       1\n",
       "Action, Adventure, Indie, Massively Multiplayer                               1\n",
       "Name: genres, Length: 884, dtype: int64"
      ]
     },
     "execution_count": 5,
     "metadata": {},
     "output_type": "execute_result"
    }
   ],
   "source": [
    "df['genres'].value_counts()"
   ]
  },
  {
   "cell_type": "code",
   "execution_count": 6,
   "metadata": {},
   "outputs": [],
   "source": [
    "# Crear un vectorizador de texto\n",
    "cv = CountVectorizer()\n",
    "vectores = cv.fit_transform(df['genres']).toarray()"
   ]
  },
  {
   "cell_type": "code",
   "execution_count": 7,
   "metadata": {},
   "outputs": [],
   "source": [
    "# Calcular la similitud del coseno entre vectores\n",
    "similitud = cosine_similarity(vectores)"
   ]
  },
  {
   "cell_type": "code",
   "execution_count": 8,
   "metadata": {},
   "outputs": [],
   "source": [
    "# Generar una función para obtener recomendaciones por título\n",
    "def recomendacion(juego):\n",
    "    #Se busca el índice del juego en el DataFrame original (df). Este índice es utilizado para acceder a la fila correspondiente en la matriz de similitud.\n",
    "    indice_juego = df[df[\"item_id\"] == juego].index[0]\n",
    "    \n",
    "    #Cálculo de Similitudes: Se obtienen las distancias de similitud entre el juego de entrada y todos los demás juegos en el conjunto de datos. \n",
    "    distances = similitud[indice_juego]\n",
    "    \n",
    "    #Las distancias se ordenan de manera descendente, y se seleccionan los cinco juegos más similares (excluyendo el juego de entrada)\n",
    "    lista_juegos = sorted(list(enumerate(distances)), reverse=True, key=lambda x: x[1])[1:6]\n",
    "    \n",
    "    #Salida. Devuelve la lista de títulos recomendados.\n",
    "    recommended_titles = [df.iloc[i[0]]['app_name'] for i in lista_juegos]\n",
    "    \n",
    "    return recommended_titles"
   ]
  },
  {
   "cell_type": "code",
   "execution_count": 9,
   "metadata": {},
   "outputs": [],
   "source": [
    "# Aplicar la función a la columna 'item_id' y crear una nueva columna 'Recomendaciones'\n",
    "df['Recomendaciones'] = df['item_id'].apply(recomendacion)"
   ]
  },
  {
   "cell_type": "code",
   "execution_count": 10,
   "metadata": {},
   "outputs": [],
   "source": [
    "# borramos la columna 'app_name' ya que no la vamos a usar\n",
    "df.drop(columns= ['app_name', 'genres'], inplace= True)"
   ]
  },
  {
   "cell_type": "code",
   "execution_count": 11,
   "metadata": {},
   "outputs": [
    {
     "data": {
      "text/html": [
       "<div>\n",
       "<style scoped>\n",
       "    .dataframe tbody tr th:only-of-type {\n",
       "        vertical-align: middle;\n",
       "    }\n",
       "\n",
       "    .dataframe tbody tr th {\n",
       "        vertical-align: top;\n",
       "    }\n",
       "\n",
       "    .dataframe thead th {\n",
       "        text-align: right;\n",
       "    }\n",
       "</style>\n",
       "<table border=\"1\" class=\"dataframe\">\n",
       "  <thead>\n",
       "    <tr style=\"text-align: right;\">\n",
       "      <th></th>\n",
       "      <th>item_id</th>\n",
       "      <th>genres</th>\n",
       "      <th>Recomendaciones</th>\n",
       "    </tr>\n",
       "  </thead>\n",
       "  <tbody>\n",
       "    <tr>\n",
       "      <th>0</th>\n",
       "      <td>-1</td>\n",
       "      <td>Action, Adventure</td>\n",
       "      <td>[Portal 2, Lost Planet™: Extreme Condition, To...</td>\n",
       "    </tr>\n",
       "    <tr>\n",
       "      <th>1</th>\n",
       "      <td>10</td>\n",
       "      <td>Action</td>\n",
       "      <td>[Team Fortress Classic, Day of Defeat, Deathma...</td>\n",
       "    </tr>\n",
       "    <tr>\n",
       "      <th>2</th>\n",
       "      <td>20</td>\n",
       "      <td>Action</td>\n",
       "      <td>[Team Fortress Classic, Day of Defeat, Deathma...</td>\n",
       "    </tr>\n",
       "    <tr>\n",
       "      <th>3</th>\n",
       "      <td>30</td>\n",
       "      <td>Action</td>\n",
       "      <td>[Team Fortress Classic, Day of Defeat, Deathma...</td>\n",
       "    </tr>\n",
       "    <tr>\n",
       "      <th>4</th>\n",
       "      <td>40</td>\n",
       "      <td>Action</td>\n",
       "      <td>[Team Fortress Classic, Day of Defeat, Deathma...</td>\n",
       "    </tr>\n",
       "    <tr>\n",
       "      <th>...</th>\n",
       "      <td>...</td>\n",
       "      <td>...</td>\n",
       "      <td>...</td>\n",
       "    </tr>\n",
       "    <tr>\n",
       "      <th>28845</th>\n",
       "      <td>2028055</td>\n",
       "      <td>Action</td>\n",
       "      <td>[Team Fortress Classic, Day of Defeat, Deathma...</td>\n",
       "    </tr>\n",
       "    <tr>\n",
       "      <th>28846</th>\n",
       "      <td>2028056</td>\n",
       "      <td>Strategy</td>\n",
       "      <td>[Space Empires IV Deluxe, Jagged Alliance 2 Go...</td>\n",
       "    </tr>\n",
       "    <tr>\n",
       "      <th>28847</th>\n",
       "      <td>2028062</td>\n",
       "      <td>Action</td>\n",
       "      <td>[Team Fortress Classic, Day of Defeat, Deathma...</td>\n",
       "    </tr>\n",
       "    <tr>\n",
       "      <th>28848</th>\n",
       "      <td>2028103</td>\n",
       "      <td>Action, Adventure</td>\n",
       "      <td>[Portal 2, Lost Planet™: Extreme Condition, To...</td>\n",
       "    </tr>\n",
       "    <tr>\n",
       "      <th>28849</th>\n",
       "      <td>2028850</td>\n",
       "      <td>Action</td>\n",
       "      <td>[Team Fortress Classic, Day of Defeat, Deathma...</td>\n",
       "    </tr>\n",
       "  </tbody>\n",
       "</table>\n",
       "<p>28850 rows × 3 columns</p>\n",
       "</div>"
      ],
      "text/plain": [
       "       item_id             genres  \\\n",
       "0           -1  Action, Adventure   \n",
       "1           10             Action   \n",
       "2           20             Action   \n",
       "3           30             Action   \n",
       "4           40             Action   \n",
       "...        ...                ...   \n",
       "28845  2028055             Action   \n",
       "28846  2028056           Strategy   \n",
       "28847  2028062             Action   \n",
       "28848  2028103  Action, Adventure   \n",
       "28849  2028850             Action   \n",
       "\n",
       "                                         Recomendaciones  \n",
       "0      [Portal 2, Lost Planet™: Extreme Condition, To...  \n",
       "1      [Team Fortress Classic, Day of Defeat, Deathma...  \n",
       "2      [Team Fortress Classic, Day of Defeat, Deathma...  \n",
       "3      [Team Fortress Classic, Day of Defeat, Deathma...  \n",
       "4      [Team Fortress Classic, Day of Defeat, Deathma...  \n",
       "...                                                  ...  \n",
       "28845  [Team Fortress Classic, Day of Defeat, Deathma...  \n",
       "28846  [Space Empires IV Deluxe, Jagged Alliance 2 Go...  \n",
       "28847  [Team Fortress Classic, Day of Defeat, Deathma...  \n",
       "28848  [Portal 2, Lost Planet™: Extreme Condition, To...  \n",
       "28849  [Team Fortress Classic, Day of Defeat, Deathma...  \n",
       "\n",
       "[28850 rows x 3 columns]"
      ]
     },
     "execution_count": 11,
     "metadata": {},
     "output_type": "execute_result"
    }
   ],
   "source": [
    "df"
   ]
  },
  {
   "cell_type": "code",
   "execution_count": 13,
   "metadata": {},
   "outputs": [
    {
     "name": "stdout",
     "output_type": "stream",
     "text": [
      "<class 'pandas.core.frame.DataFrame'>\n",
      "RangeIndex: 28850 entries, 0 to 28849\n",
      "Data columns (total 3 columns):\n",
      " #   Column           Non-Null Count  Dtype \n",
      "---  ------           --------------  ----- \n",
      " 0   item_id          28850 non-null  int64 \n",
      " 1   genres           28850 non-null  object\n",
      " 2   Recomendaciones  28850 non-null  object\n",
      "dtypes: int64(1), object(2)\n",
      "memory usage: 676.3+ KB\n"
     ]
    }
   ],
   "source": [
    "df.info()"
   ]
  },
  {
   "cell_type": "code",
   "execution_count": 21,
   "metadata": {},
   "outputs": [],
   "source": [
    "df.drop(columns= 'genres', inplace= True)"
   ]
  },
  {
   "cell_type": "code",
   "execution_count": 22,
   "metadata": {},
   "outputs": [],
   "source": [
    "# guardamos nuestro dataframe en un archivo .csv\n",
    "df.to_csv('recomendaciones_item_item.csv', index= False)"
   ]
  },
  {
   "cell_type": "code",
   "execution_count": 25,
   "metadata": {},
   "outputs": [],
   "source": [
    "# guardamos tambien en formato parquet para reducir el tamaño del archivo y que la ejecucion del modelo sea lo mas optima posible\n",
    "pq.write_table(pa.Table.from_pandas(df), 'recomendaciones_item_item.parquet')"
   ]
  }
 ],
 "metadata": {
  "kernelspec": {
   "display_name": "Python 3",
   "language": "python",
   "name": "python3"
  },
  "language_info": {
   "codemirror_mode": {
    "name": "ipython",
    "version": 3
   },
   "file_extension": ".py",
   "mimetype": "text/x-python",
   "name": "python",
   "nbconvert_exporter": "python",
   "pygments_lexer": "ipython3",
   "version": "3.11.0"
  }
 },
 "nbformat": 4,
 "nbformat_minor": 2
}
